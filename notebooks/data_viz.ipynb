{
 "cells": [
  {
   "attachments": {},
   "cell_type": "markdown",
   "metadata": {},
   "source": [
    "# Data Visualization"
   ]
  },
  {
   "attachments": {},
   "cell_type": "markdown",
   "metadata": {},
   "source": [
    "## Opening the CSV Files"
   ]
  },
  {
   "cell_type": "code",
   "execution_count": null,
   "metadata": {},
   "outputs": [],
   "source": [
    "import pandas as pd\n",
    "import matplotlib.pyplot as plt\n",
    "import seaborn as sns"
   ]
  },
  {
   "attachments": {},
   "cell_type": "markdown",
   "metadata": {},
   "source": [
    "## Tagalog to Ilokano"
   ]
  },
  {
   "cell_type": "code",
   "execution_count": null,
   "metadata": {},
   "outputs": [],
   "source": [
    "# BLEU scores\n",
    "df_bleu_sd_tl_il = pd.read_csv('../src/scores/Tagalog to Ilokano/Standard Translator/test/test_bleu_tl-il.csv')\n",
    "df_bleu_hb_tl_il = pd.read_csv('../src/scores/Tagalog to Ilokano/Hybrid Translator/test/test_bleu_tl-il.csv')\n",
    "\n",
    "# TER Scores\n",
    "df_ter_sd_tl_il = pd.read_csv('../src/scores/Tagalog to Ilokano/Standard Translator/test/test_ter_tl-il.csv')\n",
    "df_ter_hb_tl_il = pd.read_csv('../src/scores/Tagalog to Ilokano/Hybrid Translator/test/test_ter_tl-il.csv')\n",
    "\n",
    "# Rouge Scores\n",
    "df_rouge_sd_tl_il = pd.read_csv('../src/scores/Tagalog to Ilokano/Standard Translator/test/test_rouge_tl-il.csv')\n",
    "df_rouge_hb_tl_il = pd.read_csv('../src/scores/Tagalog to Ilokano/Hybrid Translator/test/test_rouge_tl-il.csv')"
   ]
  },
  {
   "attachments": {},
   "cell_type": "markdown",
   "metadata": {},
   "source": [
    "## Ilokano to Tagalog"
   ]
  },
  {
   "cell_type": "code",
   "execution_count": null,
   "metadata": {},
   "outputs": [],
   "source": [
    "# BLEU scores\n",
    "df_bleu_sd_il_tl = pd.read_csv('../src/scores/Ilokano to Tagalog/Standard Translator/test/test_bleu_il-tl.csv')\n",
    "df_bleu_hb_il_tl = pd.read_csv('../src/scores/Ilokano to Tagalog/Hybrid Translator/test/test_bleu_il-tl.csv')\n",
    "\n",
    "# TER Scores\n",
    "df_ter_sd_il_tl = pd.read_csv('../src/scores/Ilokano to Tagalog/Standard Translator/test/test_ter_il-tl.csv')\n",
    "df_ter_hb_il_tl = pd.read_csv('../src/scores/Ilokano to Tagalog/Hybrid Translator/test/test_ter_il-tl.csv')\n",
    "\n",
    "# Rouge Scores\n",
    "df_rouge_sd_il_tl = pd.read_csv('../src/scores/Ilokano to Tagalog/Standard Translator/test/test_rouge_il-tl.csv')\n",
    "df_rouge_hb_il_tl = pd.read_csv('../src/scores/Ilokano to Tagalog/Hybrid Translator/test/test_rouge_il-tl.csv')"
   ]
  },
  {
   "attachments": {},
   "cell_type": "markdown",
   "metadata": {},
   "source": [
    "# Creating the vizualization"
   ]
  },
  {
   "attachments": {},
   "cell_type": "markdown",
   "metadata": {},
   "source": [
    "## Functions"
   ]
  },
  {
   "cell_type": "code",
   "execution_count": null,
   "metadata": {},
   "outputs": [],
   "source": [
    "def hist_bleu(df_bleu_sd, df_bleu_hb, lang1, lang2):\n",
    "    fig, ax = plt.subplots(1, 2, figsize=(15, 5))\n",
    "    sns.histplot(df_bleu_sd['BLEU_SCORE'], ax=ax[0], color='blue')\n",
    "    sns.histplot(df_bleu_hb['BLEU_SCORE'], ax=ax[1], color='red')\n",
    "    ax[0].set_title('Standard Translator')\n",
    "    ax[1].set_title('Hybrid Translator')\n",
    "    fig.suptitle(f'BLEU Score Distribution ({lang1} to {lang2})')\n",
    "    plt.show()\n",
    "# end of funtion\n",
    "\n",
    "def hist_ter(df_ter_sd, df_ter_hb, lang1, lang2):\n",
    "    fig, ax = plt.subplots(1, 2, figsize=(15, 5))\n",
    "    sns.histplot(df_ter_sd['TER_SCORE'], ax=ax[0], color='blue')\n",
    "    sns.histplot(df_ter_hb['TER_SCORE'], ax=ax[1], color='red')\n",
    "    ax[0].set_title('Standard Translator')\n",
    "    ax[1].set_title('Hybrid Translator')\n",
    "    fig.suptitle(f'TER Score Distribution ({lang1} to {lang2})')\n",
    "    plt.show()\n",
    "# end of function\n",
    "\n",
    "def hist_rouge(df_rouge_sd, df_rouge_hb, lang1, lang2):\n",
    "    fig, ax = plt.subplots(1, 2, figsize=(15, 5))\n",
    "    sns.histplot(df_rouge_sd['F1_SCORE'], ax=ax[0], color='blue')\n",
    "    sns.histplot(df_rouge_hb['F1_SCORE'], ax=ax[1], color='red')\n",
    "    ax[0].set_title('Standard Translator')\n",
    "    ax[1].set_title('Hybrid Translator')\n",
    "    fig.suptitle(f'ROUGE Score Distribution ({lang1} to {lang2})')\n",
    "    plt.show()\n",
    "# end of fnction"
   ]
  },
  {
   "attachments": {},
   "cell_type": "markdown",
   "metadata": {},
   "source": [
    "## Histogram for BLEU"
   ]
  },
  {
   "cell_type": "code",
   "execution_count": null,
   "metadata": {},
   "outputs": [],
   "source": [
    "hist_bleu(df_bleu_sd_tl_il, df_bleu_hb_tl_il, 'Tagalog', 'Ilokano')\n",
    "hist_bleu(df_bleu_sd_il_tl, df_bleu_hb_il_tl, 'Ilokano', 'Tagalog')"
   ]
  },
  {
   "attachments": {},
   "cell_type": "markdown",
   "metadata": {},
   "source": [
    "## Histogram for TER"
   ]
  },
  {
   "cell_type": "code",
   "execution_count": null,
   "metadata": {},
   "outputs": [],
   "source": [
    "hist_ter(df_ter_sd_tl_il, df_ter_hb_tl_il, 'Tagalog', 'Ilokano')\n",
    "hist_ter(df_ter_sd_il_tl, df_ter_hb_il_tl, 'Ilokano', 'Tagalog')"
   ]
  },
  {
   "attachments": {},
   "cell_type": "markdown",
   "metadata": {},
   "source": [
    "## Histogram for Rogue Scores"
   ]
  },
  {
   "cell_type": "code",
   "execution_count": null,
   "metadata": {},
   "outputs": [],
   "source": [
    "hist_rouge(df_rouge_sd_tl_il, df_rouge_hb_tl_il, 'Tagalog', 'Ilokano')\n",
    "hist_rouge(df_rouge_sd_il_tl, df_rouge_hb_il_tl, 'Ilokano', 'Tagalog')"
   ]
  }
 ],
 "metadata": {
  "kernelspec": {
   "display_name": "Python 3",
   "language": "python",
   "name": "python3"
  },
  "language_info": {
   "codemirror_mode": {
    "name": "ipython",
    "version": 3
   },
   "file_extension": ".py",
   "mimetype": "text/x-python",
   "name": "python",
   "nbconvert_exporter": "python",
   "pygments_lexer": "ipython3",
   "version": "3.10.5"
  },
  "orig_nbformat": 4,
  "vscode": {
   "interpreter": {
    "hash": "c1d54cc6ba22d92170a9f9c24d6077688435e22a85a4273e6fe4e4e6bdebfd02"
   }
  }
 },
 "nbformat": 4,
 "nbformat_minor": 2
}
