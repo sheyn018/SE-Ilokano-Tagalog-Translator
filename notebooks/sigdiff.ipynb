{
 "cells": [
  {
   "cell_type": "code",
   "execution_count": null,
   "metadata": {},
   "outputs": [],
   "source": [
    "import numpy as np\n",
    "import pandas as pd\n",
    "import scipy.stats as stats\n",
    "\n",
    "def perform_ttest(standard, hybrid, score_col):\n",
    "    # Standard scores\n",
    "    standard_scores = standard[score_col].dropna().to_numpy()\n",
    "\n",
    "    # Hybrid scores\n",
    "    hybrid_scores = hybrid[score_col].dropna().to_numpy()\n",
    "\n",
    "    # Perform t-test to determine if the difference in scores is significant\n",
    "    t, p = stats.ttest_ind(standard_scores, hybrid_scores)\n",
    "\n",
    "    print(\"t-statistic: \", t)\n",
    "    print(\"p-value: \", p)\n",
    "\n",
    "    # Evaluate if the null hypothesis can be rejected based on the p-value\n",
    "    if p < 0.05: # standard significance level\n",
    "        print(\"Null hypothesis rejected, significant difference between the two models.\")\n",
    "    else:\n",
    "        print(\"Null hypothesis not rejected, no significant difference between the two models.\")"
   ]
  },
  {
   "cell_type": "code",
   "execution_count": null,
   "metadata": {},
   "outputs": [],
   "source": [
    "# Load BLEU scores\n",
    "standard = pd.read_csv('../src/scores/Ilokano to Tagalog/Standard Translator/test/test_bleu_il-tl.csv')\n",
    "hybrid = pd.read_csv('../src/scores/Ilokano to Tagalog/Hybrid Translator/test/test_bleu_il-tl.csv')\n",
    "print(\"ILOKANO TO TAGALOG (BLEU):\")\n",
    "perform_ttest(standard, hybrid, 'BLEU_SCORE')\n",
    "\n",
    "standard = pd.read_csv('../src/scores/Tagalog to Ilokano/Standard Translator/test/test_bleu_tl-il.csv')\n",
    "hybrid = pd.read_csv('../src/scores/Tagalog to Ilokano/Hybrid Translator/test/test_bleu_tl-il.csv')\n",
    "print(\"\\nTAGALOG TO ILOKANO (BLEU):\")\n",
    "perform_ttest(standard, hybrid, 'BLEU_SCORE')"
   ]
  },
  {
   "cell_type": "code",
   "execution_count": null,
   "metadata": {},
   "outputs": [],
   "source": [
    "# Load TER scores\n",
    "standard = pd.read_csv('../src/scores/Ilokano to Tagalog/Standard Translator/test/test_ter_il-tl.csv')\n",
    "hybrid = pd.read_csv('../src/scores/Ilokano to Tagalog/Hybrid Translator/test/test_ter_il-tl.csv')\n",
    "print(\"ILOKANO TO TAGALOG (TER):\")\n",
    "perform_ttest(standard, hybrid, 'TER_SCORE')\n",
    "\n",
    "standard = pd.read_csv('../src/scores/Tagalog to Ilokano/Standard Translator/test/test_ter_tl-il.csv')\n",
    "hybrid = pd.read_csv('../src/scores/Tagalog to Ilokano/Hybrid Translator/test/test_ter_tl-il.csv')\n",
    "print(\"\\nTAGALOG TO ILOKANO (TER):\")\n",
    "perform_ttest(standard, hybrid, 'TER_SCORE')"
   ]
  },
  {
   "cell_type": "code",
   "execution_count": null,
   "metadata": {},
   "outputs": [],
   "source": [
    "# Load Rouge scores\n",
    "standard = pd.read_csv('../src/scores/Ilokano to Tagalog/Standard Translator/test/test_rouge_il-tl.csv')\n",
    "hybrid = pd.read_csv('../src/scores/Ilokano to Tagalog/Hybrid Translator/test/test_rouge_il-tl.csv')\n",
    "print(\"ILOKANO TO TAGALOG (Rouge):\")\n",
    "perform_ttest(standard, hybrid, 'F1_SCORE')\n",
    "\n",
    "standard = pd.read_csv('../src/scores/Tagalog to Ilokano/Standard Translator/test/test_rouge_tl-il.csv')\n",
    "hybrid = pd.read_csv('../src/scores/Tagalog to Ilokano/Hybrid Translator/test/test_rouge_tl-il.csv')\n",
    "print(\"\\nTAGALOG TO ILOKANO (TER):\")\n",
    "perform_ttest(standard, hybrid, 'F1_SCORE')"
   ]
  }
 ],
 "metadata": {
  "kernelspec": {
   "display_name": "Python 3",
   "language": "python",
   "name": "python3"
  },
  "language_info": {
   "codemirror_mode": {
    "name": "ipython",
    "version": 3
   },
   "file_extension": ".py",
   "mimetype": "text/x-python",
   "name": "python",
   "nbconvert_exporter": "python",
   "pygments_lexer": "ipython3",
   "version": "3.10.5"
  },
  "orig_nbformat": 4,
  "vscode": {
   "interpreter": {
    "hash": "c1d54cc6ba22d92170a9f9c24d6077688435e22a85a4273e6fe4e4e6bdebfd02"
   }
  }
 },
 "nbformat": 4,
 "nbformat_minor": 2
}
