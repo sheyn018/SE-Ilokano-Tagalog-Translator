{
 "cells": [
  {
   "cell_type": "markdown",
   "metadata": {},
   "source": [
    "# Language Model"
   ]
  },
  {
   "cell_type": "markdown",
   "metadata": {},
   "source": [
    "## Initialization of Datasets"
   ]
  },
  {
   "cell_type": "markdown",
   "metadata": {},
   "source": [
    "### Storing nGram Data"
   ]
  },
  {
   "cell_type": "code",
   "execution_count": null,
   "metadata": {},
   "outputs": [],
   "source": [
    "import pandas as pd\n",
    "\n",
    "tl_ngram_data = pd.read_json('../src/json data/Tagalog to Ilokano/Example-Based/Language Model/dict_tl_ngram.json')\n",
    "il_ngram_data = pd.read_json('../src/json data/Ilokano to Tagalog/Example-Based/Language Model/dict_il_ngram.json')"
   ]
  },
  {
   "attachments": {},
   "cell_type": "markdown",
   "metadata": {},
   "source": [
    "### Storing in Lists"
   ]
  },
  {
   "cell_type": "code",
   "execution_count": null,
   "metadata": {},
   "outputs": [],
   "source": [
    "tl_ngram_list = tl_ngram_data['Tagalog nGram'].tolist()\n",
    "il_ngram_list = il_ngram_data['Ilokano nGram'].tolist()"
   ]
  },
  {
   "cell_type": "markdown",
   "metadata": {},
   "source": [
    "### Language Model Tagalog to Ilokano Dictionary"
   ]
  },
  {
   "cell_type": "code",
   "execution_count": null,
   "metadata": {},
   "outputs": [],
   "source": [
    "dict_tl_il_lang_mod = pd.DataFrame(columns=['Tagalog Structure', 'Ilokano Structure', 'Ilokano Structure Count'])\n",
    "dict_il_tl_lang_mod = pd.DataFrame(columns=['Ilokano Structure', 'Tagalog Structure', 'Tagalog Structure Count'])\n",
    "dict_tl_il_struct = pd.DataFrame(columns=['Tagalog Structure Count', 'Ilokano Structure Count'])"
   ]
  },
  {
   "cell_type": "markdown",
   "metadata": {},
   "source": [
    "## Counter"
   ]
  },
  {
   "cell_type": "code",
   "execution_count": null,
   "metadata": {},
   "outputs": [],
   "source": [
    "def count_ngram(ngram_data):\n",
    "    count_struct_list = []\n",
    "    for ngram_sen in ngram_data:\n",
    "        count_struct = []\n",
    "        for capsule in ngram_sen:\n",
    "            count_vb = 0\n",
    "            count_nn = 0\n",
    "            count_jj = 0\n",
    "            count_pr = 0\n",
    "            for pos in capsule:\n",
    "                if pos == 'VB':\n",
    "                    count_vb += 1\n",
    "                if pos == 'NN':\n",
    "                    count_nn += 1\n",
    "                if pos == 'JJ':\n",
    "                    count_jj += 1\n",
    "                if pos == 'PR':\n",
    "                    count_pr += 1\n",
    "            \n",
    "            count_struct.append([count_vb, count_nn, count_jj, count_pr])\n",
    "        count_struct_list.append(count_struct)\n",
    "            \n",
    "    return count_struct_list"
   ]
  },
  {
   "cell_type": "code",
   "execution_count": null,
   "metadata": {},
   "outputs": [],
   "source": [
    "tl_count_struct_list = count_ngram(tl_ngram_data['Tagalog nGram'])\n",
    "il_count_struct_list = count_ngram(il_ngram_data['Ilokano nGram'])\n",
    "\n",
    "dict_tl_il_struct['Tagalog Structure Count'] = tl_count_struct_list\n",
    "dict_tl_il_struct['Ilokano Structure Count'] = il_count_struct_list\n",
    "\n",
    "dict_tl_il_struct.head()"
   ]
  },
  {
   "cell_type": "markdown",
   "metadata": {},
   "source": [
    "## Matcher"
   ]
  },
  {
   "cell_type": "code",
   "execution_count": null,
   "metadata": {},
   "outputs": [],
   "source": [
    "def match_tl_il_lang_mod():\n",
    "    sp_index = 0\n",
    "    \n",
    "    tl_struct_list = []\n",
    "    il_struct_list = []\n",
    "    \n",
    "    tl_struct_count_list = []\n",
    "    il_struct_count_list = []\n",
    "    \n",
    "    for tl_ngram_sen in tl_ngram_list:\n",
    "        wp_index = 0\n",
    "        \n",
    "        tl_count_struct_sen = tl_count_struct_list[sp_index]\n",
    "        il_count_struct_sen = il_count_struct_list[sp_index]\n",
    "        \n",
    "        il_ngram_sen = il_ngram_list[sp_index]\n",
    "        \n",
    "        for tl_ngram in tl_ngram_sen:\n",
    "            tl_count_stuct = tl_count_struct_sen[wp_index]\n",
    "            \n",
    "            if len(tl_ngram_sen) == len(il_ngram_sen):\n",
    "                curr_il_ngram = il_ngram_sen[wp_index]\n",
    "                il_curr_stuct = il_count_struct_sen[wp_index]\n",
    "                il_next_stuct = None\n",
    "                il_prev_stuct = None\n",
    "                # print('current_il_ngram:', curr_il_ngram)\n",
    "                \n",
    "                try:\n",
    "                    next_il_ngram = il_ngram_sen[wp_index + 1]\n",
    "                    il_next_stuct = il_count_struct_sen[wp_index + 1]\n",
    "                    # print('next_il_ngram: ', next_il_ngram)\n",
    "                except:\n",
    "                    pass\n",
    "                try:\n",
    "                    if (wp_index - 1) != -1:\n",
    "                        prev_il_ngram = il_ngram_sen[wp_index - 1]\n",
    "                        il_prev_stuct = il_count_struct_sen[wp_index - 1]\n",
    "                        # print('prev_il_ngram: ', prev_il_ngram)\n",
    "                except:\n",
    "                    pass\n",
    "                \n",
    "                \"\"\"\n",
    "                    Counter for the number of words in the nGram\n",
    "                \"\"\"\n",
    "                \n",
    "                # Stories with Tagalog nGram of in the DataFrame                   \n",
    "                if tl_ngram not in tl_struct_list:\n",
    "                    tl_struct_list.append(tl_ngram)\n",
    "                    inDict = False\n",
    "                else:\n",
    "                    temp_index = tl_struct_list.index(tl_ngram)\n",
    "                    inDict = True\n",
    "                \n",
    "                # Conditions for the current word    \n",
    "                if tl_count_stuct == il_curr_stuct:    \n",
    "                    il_gram = curr_il_ngram\n",
    "                \n",
    "                elif tl_count_stuct == il_next_stuct:\n",
    "                    il_gram = next_il_ngram\n",
    "                \n",
    "                elif tl_count_stuct == il_prev_stuct:\n",
    "                    il_gram = prev_il_ngram\n",
    "                    \n",
    "                else:\n",
    "                    il_gram = tl_ngram\n",
    "                \n",
    "                # Storing the Ilokano nGram in the DataFrame    \n",
    "                if not inDict:\n",
    "                    il_struct_list.append([il_gram])\n",
    "                    il_struct_count_list.append([1])\n",
    "                else:\n",
    "                    if il_gram not in il_struct_list[temp_index]:\n",
    "                        il_struct_list[temp_index].append(il_gram)\n",
    "                        il_struct_count_list[temp_index].append(1)\n",
    "                    else:\n",
    "                        temp_struct_index = il_struct_list[temp_index].index(il_gram)\n",
    "                        il_struct_count_list[temp_index][temp_struct_index] += 1\n",
    "            wp_index += 1\n",
    "        sp_index += 1\n",
    "        \n",
    "    dict_tl_il_lang_mod['Tagalog Structure'] = tl_struct_list\n",
    "    dict_tl_il_lang_mod['Ilokano Structure'] = il_struct_list\n",
    "    dict_tl_il_lang_mod['Ilokano Structure Count'] = il_struct_count_list   "
   ]
  },
  {
   "cell_type": "code",
   "execution_count": null,
   "metadata": {},
   "outputs": [],
   "source": [
    "def match_il_tl_lang_mod():\n",
    "    sp_index = 0\n",
    "    \n",
    "    il_struct_list = []\n",
    "    tl_struct_list = []\n",
    "    \n",
    "    il_struct_count_list = []\n",
    "    tl_struct_count_list = []\n",
    "    \n",
    "    for il_ngram_sen in il_ngram_list:\n",
    "        wp_index = 0\n",
    "        \n",
    "        il_count_struct_sen = il_count_struct_list[sp_index]\n",
    "        tl_count_struct_sen = tl_count_struct_list[sp_index]\n",
    "        \n",
    "        tl_ngram_sen = tl_ngram_list[sp_index]\n",
    "        \n",
    "        for il_ngram in il_ngram_sen:\n",
    "            il_count_stuct = il_count_struct_sen[wp_index]\n",
    "            \n",
    "            if len(il_ngram_sen) == len(tl_ngram_sen):\n",
    "                curr_tl_ngram = tl_ngram_sen[wp_index]\n",
    "                tl_curr_stuct = tl_count_struct_sen[wp_index]\n",
    "                tl_next_stuct = None\n",
    "                tl_prev_stuct = None\n",
    "                # print('current_tl_ngram:', curr_tl_ngram)\n",
    "                \n",
    "                try:\n",
    "                    next_tl_ngram = tl_ngram_sen[wp_index + 1]\n",
    "                    tl_next_stuct = tl_count_struct_sen[wp_index + 1]\n",
    "                    # print('next_tl_ngram: ', next_tl_ngram)\n",
    "                except:\n",
    "                    pass\n",
    "                try:\n",
    "                    if (wp_index - 1) != -1:\n",
    "                        prev_tl_ngram = tl_ngram_sen[wp_index - 1]\n",
    "                        tl_prev_stuct = tl_count_struct_sen[wp_index - 1]\n",
    "                        # print('prev_tl_ngram: ', prev_tl_ngram)\n",
    "                except:\n",
    "                    pass\n",
    "                \n",
    "                \"\"\"\n",
    "                    Counter for the number of words in the nGram\n",
    "                \"\"\"\n",
    "                \n",
    "                # Stories with Tagalog nGram of in the DataFrame                   \n",
    "                if il_ngram not in il_struct_list:\n",
    "                    il_struct_list.append(il_ngram)\n",
    "                    inDict = False\n",
    "                else:\n",
    "                    temp_index = il_struct_list.index(il_ngram)\n",
    "                    inDict = True\n",
    "                \n",
    "                # Conditions for the current word    \n",
    "                if il_count_stuct == tl_curr_stuct:    \n",
    "                    tl_gram = curr_tl_ngram\n",
    "                \n",
    "                elif il_count_stuct == tl_next_stuct:\n",
    "                    tl_gram = next_tl_ngram\n",
    "                \n",
    "                elif il_count_stuct == tl_prev_stuct:\n",
    "                    tl_gram = prev_tl_ngram\n",
    "                    \n",
    "                else:\n",
    "                    tl_gram = il_ngram\n",
    "                \n",
    "                # Storing the Ilokano nGram in the DataFrame    \n",
    "                if not inDict:\n",
    "                    tl_struct_list.append([tl_gram])\n",
    "                    tl_struct_count_list.append([1])\n",
    "                else:\n",
    "                    if tl_gram not in tl_struct_list[temp_index]:\n",
    "                        tl_struct_list[temp_index].append(tl_gram)\n",
    "                        tl_struct_count_list[temp_index].append(1)\n",
    "                    else:\n",
    "                        temp_struct_index = tl_struct_list[temp_index].index(tl_gram)\n",
    "                        tl_struct_count_list[temp_index][temp_struct_index] += 1\n",
    "            wp_index += 1\n",
    "        sp_index += 1\n",
    "        \n",
    "    dict_il_tl_lang_mod['Ilokano Structure'] = il_struct_list\n",
    "    dict_il_tl_lang_mod['Tagalog Structure'] = tl_struct_list\n",
    "    dict_il_tl_lang_mod['Tagalog Structure Count'] = tl_struct_count_list"
   ]
  },
  {
   "cell_type": "code",
   "execution_count": null,
   "metadata": {},
   "outputs": [],
   "source": [
    "match_tl_il_lang_mod()\n",
    "match_il_tl_lang_mod()"
   ]
  },
  {
   "attachments": {},
   "cell_type": "markdown",
   "metadata": {},
   "source": [
    "## Exporting the Dictionary to a JSON File"
   ]
  },
  {
   "cell_type": "code",
   "execution_count": null,
   "metadata": {},
   "outputs": [],
   "source": [
    "import json\n",
    "\n",
    "dict_tl_il_lang_mod_rec = dict_tl_il_lang_mod.to_dict('records')\n",
    "dict_il_tl_lang_mod_rec = dict_il_tl_lang_mod.to_dict('records')\n",
    "\n",
    "try:\n",
    "    with open('../src/json data/Tagalog to Ilokano/Example-Based/Language Model/dict_tl_il_lang_mod.json', 'w') as outfile:\n",
    "        json.dump(dict_tl_il_lang_mod_rec, outfile)\n",
    "    print('Successfully saved the file!')\n",
    "\n",
    "    with open('../src/json data/Ilokano to Tagalog/Example-Based/Language Model/dict_il_tl_lang_mod.json', 'w') as outfile:\n",
    "        json.dump(dict_il_tl_lang_mod_rec, outfile)\n",
    "    print('Successfully saved the file!')\n",
    "except:\n",
    "    print('Error saving the file!')"
   ]
  }
 ],
 "metadata": {
  "kernelspec": {
   "display_name": "Python 3.10.5 64-bit",
   "language": "python",
   "name": "python3"
  },
  "language_info": {
   "codemirror_mode": {
    "name": "ipython",
    "version": 3
   },
   "file_extension": ".py",
   "mimetype": "text/x-python",
   "name": "python",
   "nbconvert_exporter": "python",
   "pygments_lexer": "ipython3",
   "version": "3.10.5"
  },
  "orig_nbformat": 4,
  "vscode": {
   "interpreter": {
    "hash": "c1d54cc6ba22d92170a9f9c24d6077688435e22a85a4273e6fe4e4e6bdebfd02"
   }
  }
 },
 "nbformat": 4,
 "nbformat_minor": 2
}
