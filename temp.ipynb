{
 "cells": [
  {
   "cell_type": "code",
   "execution_count": 9,
   "metadata": {},
   "outputs": [],
   "source": [
    "import pandas as pd\n",
    "# reading the csv file \n",
    "\n",
    "df_test = pd.read_csv('src/csv data/test.csv')\n",
    "\n",
    "# randomize the sequence of the data\n",
    "df_test = df_test.sample(frac=1).reset_index(drop=True)\n",
    "\n",
    "# get the 173 random rows\n",
    "# df_test = df_test.sample(n=75, random_state=1).reset_index(drop=True)\n",
    "\n",
    "# df_test.head()"
   ]
  },
  {
   "cell_type": "code",
   "execution_count": 10,
   "metadata": {},
   "outputs": [],
   "source": [
    "# save the Ilokano column of the dataframe into a txt file\n",
    "with open('src/text data/testing data/Ilokano/test_ilokano.txt', 'w') as f:\n",
    "    for item in df_test['Ilokano']:\n",
    "        f.write(\"%s\\n\" % item.lower())\n",
    "\n",
    "with open('src/text data/testing data/Tagalog/test_tagalog.txt', 'w') as f:\n",
    "    for item in df_test['Tagalog']:\n",
    "        f.write(\"%s\\n\" % item.lower())"
   ]
  },
  {
   "cell_type": "code",
   "execution_count": null,
   "metadata": {},
   "outputs": [],
   "source": []
  }
 ],
 "metadata": {
  "kernelspec": {
   "display_name": "Python 3",
   "language": "python",
   "name": "python3"
  },
  "language_info": {
   "codemirror_mode": {
    "name": "ipython",
    "version": 3
   },
   "file_extension": ".py",
   "mimetype": "text/x-python",
   "name": "python",
   "nbconvert_exporter": "python",
   "pygments_lexer": "ipython3",
   "version": "3.10.1"
  },
  "orig_nbformat": 4,
  "vscode": {
   "interpreter": {
    "hash": "fd5e40cb983109c15fc1053f6f3e661cc97e68e07c1758cdbd2441c60186ce19"
   }
  }
 },
 "nbformat": 4,
 "nbformat_minor": 2
}
